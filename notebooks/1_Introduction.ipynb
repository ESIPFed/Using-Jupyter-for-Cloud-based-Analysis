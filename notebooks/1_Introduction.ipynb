{
 "cells": [
  {
   "cell_type": "markdown",
   "metadata": {},
   "source": [
    "# Introduction\n",
    "\n",
    "In this workshop you will learn how to use Jupyter to communicate with an Apache Science Data Analytic Platform (SDAP) deployed to the cloud in order to perform scientific analysis on remote sensing data.\n",
    "\n",
    "## Jupyter\n",
    "\n",
    "This entire workshop will be run through your own server on JupyterHub provided by ESIP.\n",
    "\n",
    "### Reference Materials\n",
    "\n",
    "## Python 3\n",
    "\n",
    "All of the notebooks in this workshop run using the Python 3 kernel. The expectation is that you have basic python programming skills or are able to understand simple python code.\n",
    "\n",
    "If needed, an introduction to Python 3 (Courtesy of [Twisted Hardware](https://github.com/TwistedHardware/mltutorial/blob/b90fb1983221a2b53666d92a908dac015cf230b2/notebooks/jupyter/3.%20Python%20Basics.ipynb)) is provided in the [3 - Python Basics](3 - Python Basics.ipynb) notebook.\n",
    "\n",
    "Important hints:\n",
    " - In python `datetime` objects can be created using the constructor `datetime(int: year, int: month, int: day)`. For example: `a_date = datetime(2016, 11, 1)`\n",
    " - Lists are considered sequences. To construct a list in python use square brackets. For example: `my_list = [\"This list contains one string\"]`\n",
    " \n",
    "## nexuscli Python Client\n",
    "\n",
    "This workshop uses the `nexuscli` python client module. The source code for this module can be found on [GitHub](https://github.com/apache/incubator-sdap-nexus/tree/master/client). Documentation is available [as html](https://htmlpreview.github.io/?https://github.com/apache/incubator-sdap-nexus/blob/107438af45b479348ffb75a667b276ee3c81f9da/client/docs/nexuscli/index.html) and can also be viewed directly in Jupyter notebook by importing the module, running the cell, typing `nexuscli`, and then pressing `shift + tab`.\n",
    "\n",
    "## Dataset Descriptions\n",
    "\n",
    "There are three datasets available for analysis during this workshop:\n",
    "\n",
    "1. AVHRR_OI-NCEI-L4-GLOB-v2.0\n",
    "  - Timeframe available: 2005 - 2016\n",
    "  - [Dataset Description](http://podaac.jpl.nasa.gov/dataset/AVHRR_OI-NCEI-L4-GLOB-v2.0)\n",
    "2. TRMM_3B42_V7\n",
    "  - Timeframe available: 1998\n",
    "  - [Dataset Description](https://disc.gsfc.nasa.gov/datasets/TRMM_3B42_V7/summary)\n",
    "3. RAPID_WSWM\n",
    "  - Timeframe available: 1997 - 1998\n",
    "  - Simulation river flow data produced at JPL"
   ]
  },
  {
   "cell_type": "code",
   "execution_count": null,
   "metadata": {
    "collapsed": true
   },
   "outputs": [],
   "source": []
  }
 ],
 "metadata": {
  "kernelspec": {
   "display_name": "Python 3",
   "language": "python",
   "name": "python3"
  },
  "language_info": {
   "codemirror_mode": {
    "name": "ipython",
    "version": 3
   },
   "file_extension": ".py",
   "mimetype": "text/x-python",
   "name": "python",
   "nbconvert_exporter": "python",
   "pygments_lexer": "ipython3",
   "version": "3.5.3"
  }
 },
 "nbformat": 4,
 "nbformat_minor": 0
}
