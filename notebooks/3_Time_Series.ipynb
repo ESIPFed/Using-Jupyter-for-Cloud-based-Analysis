{
 "cells": [
  {
   "cell_type": "markdown",
   "metadata": {},
   "source": [
    "# Step 1: Notebook Setup\n",
    "\n",
    "The cell below contains a number of helper functions used throughout this walkthrough. They are mainly wrappers around existing `matplotlib` functionality and are provided for the sake of simplicity in the steps to come.\n",
    "\n",
    "Take a moment to read the descriptions for each method so you understand what they can be used for. You will use these \"helper methods\" as you work through this notebook below.\n",
    "\n",
    "If you are familiar with `matplotlib`, feel free to alter the functions as you please.\n",
    "\n",
    "## TODOs\n",
    "\n",
    "1. Click in the cell below and run the cell."
   ]
  },
  {
   "cell_type": "code",
   "execution_count": null,
   "metadata": {
    "collapsed": true
   },
   "outputs": [],
   "source": [
    "# TODO: Make sure you run this cell before continuing!\n",
    "\n",
    "%matplotlib inline\n",
    "import matplotlib.pyplot as plt\n",
    "\n",
    "def show_plot(x_datas, y_datas, x_label, y_label, legend=None, title=None):\n",
    "    \"\"\"\n",
    "    Display a simple line plot.\n",
    "    \n",
    "    :param x_data: Numpy array containing data for the X axis\n",
    "    :param y_data: Numpy array containing data for the Y axis\n",
    "    :param x_label: Label applied to X axis\n",
    "    :param y_label: Label applied to Y axis\n",
    "    \"\"\"\n",
    "    fig = plt.figure(figsize=(16,8), dpi=100)\n",
    "    for (x_data, y_data) in zip(x_datas, y_datas):\n",
    "        plt.plot(x_data, y_data, '-', marker='|', markersize=2.0, mfc='b')\n",
    "    plt.grid(b=True, which='major', color='k', linestyle='-')\n",
    "    plt.xlabel(x_label)\n",
    "    fig.autofmt_xdate()\n",
    "    plt.ylabel (y_label)\n",
    "    if legend:\n",
    "        plt.legend(legend, loc='upper left')\n",
    "    if title:\n",
    "        plt.title(title)\n",
    "    plt.show()\n",
    "    return plt\n",
    "    \n",
    "def plot_box(bbox):\n",
    "    \"\"\"\n",
    "    Display a Green bounding box on an image of the blue marble.\n",
    "    \n",
    "    :param bbox: Shapely Polygon that defines the bounding box to display\n",
    "    \"\"\"\n",
    "    min_lon, min_lat, max_lon, max_lat = bbox.bounds\n",
    "    import matplotlib.pyplot as plt1\n",
    "    from matplotlib.patches import Polygon\n",
    "    from mpl_toolkits.basemap import Basemap\n",
    "\n",
    "    map = Basemap()\n",
    "    map.bluemarble(scale=0.5)\n",
    "    poly = Polygon([(min_lon,min_lat),(min_lon,max_lat),(max_lon,max_lat),\n",
    "                    (max_lon,min_lat)],facecolor=(0,0,0,0.0),edgecolor='green',linewidth=2)\n",
    "    plt1.gca().add_patch(poly)\n",
    "    plt1.gcf().set_size_inches(15,25)\n",
    "    \n",
    "    plt1.show()\n",
    "    \n",
    "def show_plot_two_series(x_data_a, x_data_b, y_data_a, y_data_b, x_label, y_label_a, \n",
    "                         y_label_b, series_a_label, series_b_label, align_axis=True):\n",
    "    \"\"\"\n",
    "    Display a line plot of two series\n",
    "    \n",
    "    :param x_data_a: Numpy array containing data for the Series A X axis\n",
    "    :param x_data_b: Numpy array containing data for the Series B X axis\n",
    "    :param y_data_a: Numpy array containing data for the Series A Y axis\n",
    "    :param y_data_b: Numpy array containing data for the Series B Y axis\n",
    "    :param x_label: Label applied to X axis\n",
    "    :param y_label_a: Label applied to Y axis for Series A\n",
    "    :param y_label_b: Label applied to Y axis for Series B\n",
    "    :param series_a_label: Name of Series A\n",
    "    :param series_b_label: Name of Series B\n",
    "    :param align_axis: Use the same range for both y axis\n",
    "    \"\"\"\n",
    "    \n",
    "    fig, ax1 = plt.subplots(figsize=(10,5), dpi=100)\n",
    "    series_a, = ax1.plot(x_data_a, y_data_a, 'b-', marker='|', markersize=2.0, mfc='b', label=series_a_label)\n",
    "    ax1.set_ylabel(y_label_a, color='b')\n",
    "    ax1.tick_params('y', colors='b')\n",
    "    ax1.set_ylim(min(0, *y_data_a), max(y_data_a)+.1*max(y_data_a))\n",
    "    ax1.set_xlabel(x_label)\n",
    "    \n",
    "    ax2 = ax1.twinx()\n",
    "    series_b, = ax2.plot(x_data_b, y_data_b, 'r-', marker='|', markersize=2.0, mfc='r', label=series_b_label)\n",
    "    ax2.set_ylabel(y_label_b, color='r')\n",
    "    ax2.set_ylim(min(0, *y_data_b), max(y_data_b)+.1*max(y_data_b))\n",
    "    ax2.tick_params('y', colors='r')\n",
    "    \n",
    "    if align_axis:\n",
    "        axis_min = min(0, *y_data_a, *y_data_b)\n",
    "        axis_max = max(*y_data_a, *y_data_b)\n",
    "        axis_max += .1*axis_max\n",
    "        \n",
    "        ax1.set_ylim(axis_min, axis_max)\n",
    "        ax2.set_ylim(axis_min, axis_max)\n",
    "    \n",
    "    plt.grid(b=True, which='major', color='k', linestyle='-')\n",
    "    plt.legend(handles=(series_a, series_b), bbox_to_anchor=(1.1, 1), loc=2, borderaxespad=0.)\n",
    "    plt.show()\n"
   ]
  },
  {
   "cell_type": "markdown",
   "metadata": {},
   "source": [
    "# Step 2: List available Datasets\n",
    "\n",
    "Now we can interact with NEXUS using the `nexuscli` python module. The `nexuscli` module has a number of useful methods that allow you to easily interact with the NEXUS webservice API. One of those methods is `nexuscli.dataset_list` which returns a list of Datasets in the system along with their start and end times.\n",
    "\n",
    "However, in order to use the client, it must be told where the NEXUS webservice is running. The `nexuscli.set_target(url)` method is used to target NEXUS. An instance of NEXUS is already running for you and is available at `http://<public dns>:8083` where `<public dns>` is the public DNS of the EC2 instance you signed up for.\n",
    "\n",
    "## TODOs\n",
    "\n",
    "1. Import the `nexuscli` python module.\n",
    "2. Target your EC2 instance\n",
    "3. Call `nexuscli.dataset_list()` and print the results"
   ]
  },
  {
   "cell_type": "code",
   "execution_count": null,
   "metadata": {
    "collapsed": false
   },
   "outputs": [],
   "source": [
    "# TODO: Import the nexuscli python module.\n",
    "\n",
    "# TODO: Target your AWS NEXUS server using your public DNS name and port 8083\n",
    "nexuscli.set_target(\"http://<public dns>:8083\", use_session=False)\n",
    "\n",
    "# TODO: Call nexuscli.dataset_list() and print the results"
   ]
  },
  {
   "cell_type": "markdown",
   "metadata": {},
   "source": [
    "# Step 3: Run a Time Series\n",
    "\n",
    "Now that we can interact with NEXUS using the `nexuscli` python module, we would like to run a time series. To do this, we will use the `nexuscli.time_series` method. The signature for this method is described below:\n",
    "\n",
    "\n",
    ">nexuscli.time_series(datasets, bounding_box, start_datetime, end_datetime, spark=False)  \n",
    ">  \n",
    ">Send a request to NEXUS to calculate a time series.  \n",
    ">  \n",
    "__datasets__ Sequence (max length 2) of the name of the dataset(s)  \n",
    "__bounding_box__ Bounding box for area of interest as a `shapely.geometry.polygon.Polygon`  \n",
    "__start_datetime__ Start time as a `datetime.datetime`  \n",
    "__end_datetime__ End time as a `datetime.datetime`  \n",
    "__spark__ Optionally use spark. Default: `False`\n",
    ">  \n",
    ">__return__ List of `nexuscli.nexuscli.TimeSeries` namedtuples\n",
    "```\n",
    "\n",
    "As you can see, there are a number of options available. Let's take a look at the precipitation rate in LA County. LA county is a rectangle which makes it easy for analysis.\n",
    "\n",
    "Generate a time series for the `TRMM_3B42_daily_scrubbed` precipitation dataset for the time period 1997-12-31 through 1998-12-31 and a bounding box `-118.9517, 32.7969, -117.6462, 34.8233` (west, south, east, north).\n",
    "\n",
    "## TODOs\n",
    "\n",
    "1. Create the bounding box using shapely's `box` method\n",
    "2. Plot the bounding box using the `plot_box` helper method\n",
    "3. Generate the Time Series by calling the `time_series` method in the `nexuscli` module\n",
    "  - __Hint__: `datetime` is already imported for you. You can create a `datetime` using the method `datetime(int: year, int: month, int: day)`\n",
    "  - __Hint__: pass `spark=True` to the `time_series` function to speed up the computation\n",
    "4. Plot the result using the `show_plot` helper method"
   ]
  },
  {
   "cell_type": "code",
   "execution_count": null,
   "metadata": {
    "collapsed": true
   },
   "outputs": [],
   "source": [
    "import time\n",
    "import nexuscli\n",
    "from datetime import datetime\n",
    "\n",
    "from shapely.geometry import box\n",
    "\n",
    "# TODO: Create a bounding box using the box method imported above\n",
    "\n",
    "# TODO: Plot the bounding box using the helper method plot_box\n"
   ]
  },
  {
   "cell_type": "code",
   "execution_count": null,
   "metadata": {
    "collapsed": true
   },
   "outputs": [],
   "source": [
    "# Do not modify this line ##\n",
    "start = time.perf_counter()#\n",
    "############################\n",
    "\n",
    "\n",
    "# TODO: Call the time_series method for the TRMM_3B42_daily_scrubbed dataset using \n",
    "# your bounding box and time period 1997-12-31 through 1998-12-30\n",
    "\n",
    "\n",
    "# Enter your code above this line\n",
    "print(\"Time Series took {} seconds to generate\".format(time.perf_counter() - start))\n"
   ]
  },
  {
   "cell_type": "code",
   "execution_count": null,
   "metadata": {
    "collapsed": true
   },
   "outputs": [],
   "source": [
    "# TODO: Plot the result using the `show_plot` helper method\n",
    "\n"
   ]
  },
  {
   "cell_type": "markdown",
   "metadata": {},
   "source": [
    "# Step 4: Comparing Data\n",
    "\n",
    "In [2_Subsetting](2_Subsetting.ipynb) you created an average flow rate for rivers in LA county. Now that we have precipitation data for the same time period, it would be nice to plot the data on the same graph to look for patterns.\n",
    "\n",
    "Using the results from your Time Series call and the average discharge rate for rivers in LA county provided below, plot the two time series side by side using the `show_plot_two_series` helper method\n",
    "\n",
    "## TODO\n",
    " \n",
    "1. Plot the TRMM time series and the RAPID time series on the same graph using the `show_plot_two_series` helper method."
   ]
  },
  {
   "cell_type": "code",
   "execution_count": null,
   "metadata": {
    "collapsed": true
   },
   "outputs": [],
   "source": [
    "import nexuscli\n",
    "import numpy\n",
    "from datetime import datetime\n",
    "from shapely.geometry import box\n",
    "\n",
    "la_county_river_ids = [17575859, 17574289, 17575711, 17574677, 17574823,\n",
    "                       948070361, 22560728, 22560730, 22560738]\n",
    "la_county_river_data = [nexuscli.subset(\"RAPID_WSWM\", None, datetime(1997, 1, 1), \n",
    "                                        datetime(1998, 12, 31, 23, 59, 59), None, \"rivid_i:{}\".format(river_id))\n",
    "                        for river_id in la_county_river_ids]\n",
    "avg_discharge_rates = numpy.mean(numpy.array([[point.variable['variable'] for point in river] \n",
    "                               for river in la_county_river_data]), axis=0)\n",
    "single_river_time_steps = numpy.array([point.time for point in next(iter(la_county_river_data))])\n",
    "\n",
    "\n",
    "# TODO plot the two time series side by side using the show_plot_two_series helper method\n",
    "show_plot_two_series()"
   ]
  }
 ],
 "metadata": {
  "kernelspec": {
   "display_name": "Python 3",
   "language": "python",
   "name": "python3"
  },
  "language_info": {
   "codemirror_mode": {
    "name": "ipython",
    "version": 3
   },
   "file_extension": ".py",
   "mimetype": "text/x-python",
   "name": "python",
   "nbconvert_exporter": "python",
   "pygments_lexer": "ipython3",
   "version": "3.5.3"
  }
 },
 "nbformat": 4,
 "nbformat_minor": 0
}
