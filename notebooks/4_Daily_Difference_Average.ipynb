{
 "cells": [
  {
   "cell_type": "markdown",
   "metadata": {},
   "source": [
    "# Step 1: Notebook Setup\n",
    "\n",
    "The cell below contains a number of helper functions used throughout this walkthrough. They are mainly wrappers around existing `matplotlib` functionality and are provided for the sake of simplicity in the steps to come.\n",
    "\n",
    "Take a moment to read the descriptions for each method so you understand what they can be used for. You will use these \"helper methods\" as you work through this notebook below.\n",
    "\n",
    "If you are familiar with `matplotlib`, feel free to alter the functions as you please.\n",
    "\n",
    "## TODOs\n",
    "\n",
    "1. Click in the cell below and run the cell."
   ]
  },
  {
   "cell_type": "code",
   "execution_count": 1,
   "metadata": {
    "collapsed": true
   },
   "outputs": [],
   "source": [
    "# TODO: Make sure you run this cell before continuing!\n",
    "\n",
    "%matplotlib inline\n",
    "import matplotlib.pyplot as plt\n",
    "\n",
    "def show_plot(x_datas, y_datas, x_label, y_label, legend=None, title=None):\n",
    "    \"\"\"\n",
    "    Display a simple line plot.\n",
    "    \n",
    "    :param x_data: Numpy array containing data for the X axis\n",
    "    :param y_data: Numpy array containing data for the Y axis\n",
    "    :param x_label: Label applied to X axis\n",
    "    :param y_label: Label applied to Y axis\n",
    "    \"\"\"\n",
    "    fig = plt.figure(figsize=(16,8), dpi=100)\n",
    "    for (x_data, y_data) in zip(x_datas, y_datas):\n",
    "        plt.plot(x_data, y_data, '-', marker='|', markersize=2.0, mfc='b')\n",
    "    plt.grid(b=True, which='major', color='k', linestyle='-')\n",
    "    plt.xlabel(x_label)\n",
    "    fig.autofmt_xdate()\n",
    "    plt.ylabel (y_label)\n",
    "    if legend:\n",
    "        plt.legend(legend, loc='upper left')\n",
    "    if title:\n",
    "        plt.title(title)\n",
    "    plt.show()\n",
    "    return plt\n",
    "    \n",
    "def plot_box(bbox):\n",
    "    \"\"\"\n",
    "    Display a Green bounding box on an image of the blue marble.\n",
    "    \n",
    "    :param bbox: Shapely Polygon that defines the bounding box to display\n",
    "    \"\"\"\n",
    "    min_lon, min_lat, max_lon, max_lat = bbox.bounds\n",
    "    import matplotlib.pyplot as plt1\n",
    "    from matplotlib.patches import Polygon\n",
    "    from mpl_toolkits.basemap import Basemap\n",
    "\n",
    "    map = Basemap()\n",
    "    map.bluemarble(scale=0.5)\n",
    "    poly = Polygon([(min_lon,min_lat),(min_lon,max_lat),(max_lon,max_lat),\n",
    "                    (max_lon,min_lat)],facecolor=(0,0,0,0.0),edgecolor='green',linewidth=2)\n",
    "    plt1.gca().add_patch(poly)\n",
    "    plt1.gcf().set_size_inches(15,25)\n",
    "    \n",
    "    plt1.show()\n",
    "    \n",
    "def show_plot_two_series(x_data_a, x_data_b, y_data_a, y_data_b, x_label, y_label_a, \n",
    "                         y_label_b, series_a_label, series_b_label, align_axis=True):\n",
    "    \"\"\"\n",
    "    Display a line plot of two series\n",
    "    \n",
    "    :param x_data_a: Numpy array containing data for the Series A X axis\n",
    "    :param x_data_b: Numpy array containing data for the Series B X axis\n",
    "    :param y_data_a: Numpy array containing data for the Series A Y axis\n",
    "    :param y_data_b: Numpy array containing data for the Series B Y axis\n",
    "    :param x_label: Label applied to X axis\n",
    "    :param y_label_a: Label applied to Y axis for Series A\n",
    "    :param y_label_b: Label applied to Y axis for Series B\n",
    "    :param series_a_label: Name of Series A\n",
    "    :param series_b_label: Name of Series B\n",
    "    :param align_axis: Use the same range for both y axis\n",
    "    \"\"\"\n",
    "    \n",
    "    fig, ax1 = plt.subplots(figsize=(10,5), dpi=100)\n",
    "    series_a, = ax1.plot(x_data_a, y_data_a, 'b-', marker='|', markersize=2.0, mfc='b', label=series_a_label)\n",
    "    ax1.set_ylabel(y_label_a, color='b')\n",
    "    ax1.tick_params('y', colors='b')\n",
    "    ax1.set_ylim(min(0, *y_data_a), max(y_data_a)+.1*max(y_data_a))\n",
    "    ax1.set_xlabel(x_label)\n",
    "    \n",
    "    ax2 = ax1.twinx()\n",
    "    series_b, = ax2.plot(x_data_b, y_data_b, 'r-', marker='|', markersize=2.0, mfc='r', label=series_b_label)\n",
    "    ax2.set_ylabel(y_label_b, color='r')\n",
    "    ax2.set_ylim(min(0, *y_data_b), max(y_data_b)+.1*max(y_data_b))\n",
    "    ax2.tick_params('y', colors='r')\n",
    "    \n",
    "    if align_axis:\n",
    "        axis_min = min(0, *y_data_a, *y_data_b)\n",
    "        axis_max = max(*y_data_a, *y_data_b)\n",
    "        axis_max += .1*axis_max\n",
    "        \n",
    "        ax1.set_ylim(axis_min, axis_max)\n",
    "        ax2.set_ylim(axis_min, axis_max)\n",
    "    \n",
    "    plt.grid(b=True, which='major', color='k', linestyle='-')\n",
    "    plt.legend(handles=(series_a, series_b), bbox_to_anchor=(1.1, 1), loc=2, borderaxespad=0.)\n",
    "    plt.show()\n"
   ]
  },
  {
   "cell_type": "markdown",
   "metadata": {},
   "source": [
    "# Step 2: Run a Daily Difference Average (Anomaly) calculation\n",
    "\n",
    "El Niño is a common oceanographic phenomenon to study. The nexuscli has a function that can be used to generate a Daily Difference Average (aka. Anomaly plot). We'd like to do this anomoly calculation on the [El Niño 3.4 region](https://www.ncdc.noaa.gov/teleconnections/enso/indicators/sst.php) with a bounding box `-170, -5, -120, 5`.\n",
    "\n",
    "The Daily Difference Average algorithm compares a dataset against a climatological mean and produces a time series of the difference from that mean.\n",
    "\n",
    "This time, using the `nexuscli` module, call the `daily_difference_average` method. The signature for that method is reprinted below:\n",
    "\n",
    ">Generate an anomaly Time series for a given dataset, bounding box, and timeframe.  \n",
    ">  \n",
    "__dataset__ Name of the dataset as a String  \n",
    "__bounding_box__ Bounding box for area of interest as a `shapely.geometry.polygon.Polygon`  \n",
    "__start_datetime__ Start time as a `datetime.datetime`  \n",
    "__end_datetime__ End time as a `datetime.datetime`  \n",
    ">      \n",
    ">__return__ List of `nexuscli.nexuscli.TimeSeries` namedtuples\n",
    "\n",
    "Generate an anomaly time series using the `AVHRR_OI_L4_GHRSST_NCEI` SST dataset for the time period 2016-01-01 through 2016-12-31 and a bounding box `-170, -5, -120, 5` (west, south, east, north).\n",
    "\n",
    "## TODOs\n",
    "\n",
    "1. Target your EC2 instance\n",
    "1. Generate the Anomaly Time Series by calling the `daily_difference_average` method in the `nexuscli` module\n",
    "2. Plot the result using the `show_plot` helper method\n"
   ]
  },
  {
   "cell_type": "code",
   "execution_count": null,
   "metadata": {
    "collapsed": true
   },
   "outputs": [],
   "source": [
    "import time\n",
    "import nexuscli\n",
    "from datetime import datetime\n",
    "\n",
    "from shapely.geometry import box\n",
    "\n",
    "# TODO: Target your AWS NEXUS server using your public DNS name and port 8083\n",
    "nexuscli.set_target(\"http://<public dns>:8083\", use_session=False)\n",
    "\n",
    "# Do not modify this line ##\n",
    "start = time.perf_counter()#\n",
    "############################\n",
    "\n",
    "\n",
    "# TODO Generate the Anomaly Time Series by calling the daily_difference_average method in the nexuscli module\n",
    "\n",
    "\n",
    "print(\"Daily Difference Average took {} seconds to generate\".format(time.perf_counter() - start))\n"
   ]
  },
  {
   "cell_type": "code",
   "execution_count": null,
   "metadata": {
    "collapsed": true
   },
   "outputs": [],
   "source": [
    "# TODO plot the result\n"
   ]
  },
  {
   "cell_type": "markdown",
   "metadata": {},
   "source": [
    "# Step 3: Clean up the Output\n",
    "\n",
    "These graphs can get quite noisy and sometimes it is desireable to make them easier to read by sampling the returned data rather than plotting every single data point. You may also have noticed that the [TimeSeries](https://htmlpreview.github.io/?https://raw.githubusercontent.com/apache/incubator-sdap-nexus/107438af45b479348ffb75a667b276ee3c81f9da/client/docs/nexuscli/nexuscli.m.html#nexuscli.nexuscli.TimeSeries) object returned from the `daily_difference_average` method includes the standard deviation.\n",
    "\n",
    "Let's try sampling the data once per week (every 7 days) and plotting the results including the standard deviation as error bars on the graph.\n",
    "\n",
    "## TODO\n",
    "\n",
    "1. Sample every 7th data point to reduce plot noise\n",
    "  - __Hint__: Python's [extended slices notation](https://docs.python.org/2.3/whatsnew/section-slices.html) is very useful here\n",
    "2. Plot the extracted means with standard deviation shown as error bars\n",
    "  - __Hint__: `matplotlib` has an [errorbar](https://matplotlib.org/api/_as_gen/matplotlib.pyplot.errorbar.html) function"
   ]
  },
  {
   "cell_type": "code",
   "execution_count": null,
   "metadata": {
    "collapsed": true
   },
   "outputs": [],
   "source": [
    "# TODO Sample every 7th data point to reduce plot noise\n",
    "\n",
    "\n",
    "# TODO Plot the extracted means with standard deviation shown as error bars\n"
   ]
  }
 ],
 "metadata": {
  "kernelspec": {
   "display_name": "Python 3",
   "language": "python",
   "name": "python3"
  },
  "language_info": {
   "codemirror_mode": {
    "name": "ipython",
    "version": 3
   },
   "file_extension": ".py",
   "mimetype": "text/x-python",
   "name": "python",
   "nbconvert_exporter": "python",
   "pygments_lexer": "ipython3",
   "version": "3.5.3"
  }
 },
 "nbformat": 4,
 "nbformat_minor": 0
}
