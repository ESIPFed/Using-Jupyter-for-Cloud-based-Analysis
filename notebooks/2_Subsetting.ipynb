{
 "cells": [
  {
   "cell_type": "markdown",
   "metadata": {},
   "source": [
    "# Step 1: Notebook Setup\n",
    "\n",
    "The cell below contains a number of helper functions used throughout this walkthrough. They are mainly wrappers around existing `matplotlib` functionality and are provided for the sake of simplicity in the steps to come.\n",
    "\n",
    "Take a moment to read the descriptions for each method so you understand what they can be used for. You will use these \"helper methods\" as you work through this notebook below.\n",
    "\n",
    "If you are familiar with `matplotlib`, feel free to alter the functions as you please.\n",
    "\n",
    "## TODOs\n",
    "\n",
    "1. Click in the cell below and run the cell."
   ]
  },
  {
   "cell_type": "code",
   "execution_count": null,
   "metadata": {
    "collapsed": true
   },
   "outputs": [],
   "source": [
    "# TODO: Make sure you run this cell before continuing!\n",
    "\n",
    "%matplotlib inline\n",
    "import matplotlib.pyplot as plt\n",
    "\n",
    "def show_plot(x_datas, y_datas, x_label, y_label, legend=None, title=None):\n",
    "    \"\"\"\n",
    "    Display a simple line plot.\n",
    "    \n",
    "    :param x_data: Numpy array containing data for the X axis\n",
    "    :param y_data: Numpy array containing data for the Y axis\n",
    "    :param x_label: Label applied to X axis\n",
    "    :param y_label: Label applied to Y axis\n",
    "    \"\"\"\n",
    "    fig = plt.figure(figsize=(16,8), dpi=100)\n",
    "    for (x_data, y_data) in zip(x_datas, y_datas):\n",
    "        plt.plot(x_data, y_data, '-', marker='|', markersize=2.0, mfc='b')\n",
    "    plt.grid(b=True, which='major', color='k', linestyle='-')\n",
    "    plt.xlabel(x_label)\n",
    "    fig.autofmt_xdate()\n",
    "    plt.ylabel (y_label)\n",
    "    if legend:\n",
    "        plt.legend(legend, loc='upper left')\n",
    "    if title:\n",
    "        plt.title(title)\n",
    "    plt.show()\n",
    "    return plt\n",
    "    \n",
    "def plot_box(bbox):\n",
    "    \"\"\"\n",
    "    Display a Green bounding box on an image of the blue marble.\n",
    "    \n",
    "    :param bbox: Shapely Polygon that defines the bounding box to display\n",
    "    \"\"\"\n",
    "    min_lon, min_lat, max_lon, max_lat = bbox.bounds\n",
    "    import matplotlib.pyplot as plt1\n",
    "    from matplotlib.patches import Polygon\n",
    "    from mpl_toolkits.basemap import Basemap\n",
    "\n",
    "    map = Basemap()\n",
    "    map.bluemarble(scale=0.5)\n",
    "    poly = Polygon([(min_lon,min_lat),(min_lon,max_lat),(max_lon,max_lat),\n",
    "                    (max_lon,min_lat)],facecolor=(0,0,0,0.0),edgecolor='green',linewidth=2)\n",
    "    plt1.gca().add_patch(poly)\n",
    "    plt1.gcf().set_size_inches(15,25)\n",
    "    \n",
    "    plt1.show()\n",
    "    \n",
    "def show_plot_two_series(x_data_a, x_data_b, y_data_a, y_data_b, x_label, y_label_a, \n",
    "                         y_label_b, series_a_label, series_b_label, align_axis=True):\n",
    "    \"\"\"\n",
    "    Display a line plot of two series\n",
    "    \n",
    "    :param x_data_a: Numpy array containing data for the Series A X axis\n",
    "    :param x_data_b: Numpy array containing data for the Series B X axis\n",
    "    :param y_data_a: Numpy array containing data for the Series A Y axis\n",
    "    :param y_data_b: Numpy array containing data for the Series B Y axis\n",
    "    :param x_label: Label applied to X axis\n",
    "    :param y_label_a: Label applied to Y axis for Series A\n",
    "    :param y_label_b: Label applied to Y axis for Series B\n",
    "    :param series_a_label: Name of Series A\n",
    "    :param series_b_label: Name of Series B\n",
    "    :param align_axis: Use the same range for both y axis\n",
    "    \"\"\"\n",
    "    \n",
    "    fig, ax1 = plt.subplots(figsize=(10,5), dpi=100)\n",
    "    series_a, = ax1.plot(x_data_a, y_data_a, 'b-', marker='|', markersize=2.0, mfc='b', label=series_a_label)\n",
    "    ax1.set_ylabel(y_label_a, color='b')\n",
    "    ax1.tick_params('y', colors='b')\n",
    "    ax1.set_ylim(min(0, *y_data_a), max(y_data_a)+.1*max(y_data_a))\n",
    "    ax1.set_xlabel(x_label)\n",
    "    \n",
    "    ax2 = ax1.twinx()\n",
    "    series_b, = ax2.plot(x_data_b, y_data_b, 'r-', marker='|', markersize=2.0, mfc='r', label=series_b_label)\n",
    "    ax2.set_ylabel(y_label_b, color='r')\n",
    "    ax2.set_ylim(min(0, *y_data_b), max(y_data_b)+.1*max(y_data_b))\n",
    "    ax2.tick_params('y', colors='r')\n",
    "    \n",
    "    if align_axis:\n",
    "        axis_min = min(0, *y_data_a, *y_data_b)\n",
    "        axis_max = max(*y_data_a, *y_data_b)\n",
    "        axis_max += .1*axis_max\n",
    "        \n",
    "        ax1.set_ylim(axis_min, axis_max)\n",
    "        ax2.set_ylim(axis_min, axis_max)\n",
    "    \n",
    "    plt.grid(b=True, which='major', color='k', linestyle='-')\n",
    "    plt.legend(handles=(series_a, series_b), bbox_to_anchor=(1.1, 1), loc=2, borderaxespad=0.)\n",
    "    plt.show()\n"
   ]
  },
  {
   "cell_type": "markdown",
   "metadata": {},
   "source": [
    "# Step 2: List available Datasets\n",
    "\n",
    "Now we can interact with NEXUS using the `nexuscli` python module. The `nexuscli` module has a number of useful methods that allow you to easily interact with the NEXUS webservice API. One of those methods is `nexuscli.dataset_list` which returns a list of Datasets in the system along with their start and end times.\n",
    "\n",
    "However, in order to use the client, it must be told where the NEXUS webservice is running. The `nexuscli.set_target(url)` method is used to target NEXUS. An instance of NEXUS is already running for you and is available at `http://<public dns>:8083` where `<public dns>` is the public DNS of the EC2 instance you signed up for.\n",
    "\n",
    "## TODOs\n",
    "\n",
    "1. Import the `nexuscli` python module.\n",
    "2. Target your EC2 instance\n",
    "3. Call `nexuscli.dataset_list()` and print the results"
   ]
  },
  {
   "cell_type": "code",
   "execution_count": null,
   "metadata": {
    "collapsed": false
   },
   "outputs": [],
   "source": [
    "# TODO: Import the nexuscli python module.\n",
    "\n",
    "# TODO: Target your AWS NEXUS server using your public DNS name and port 8083\n",
    "nexuscli.set_target(\"http://<public dns>:8083\", use_session=False)\n",
    "\n",
    "# TODO: Call nexuscli.dataset_list() and print the results"
   ]
  },
  {
   "cell_type": "markdown",
   "metadata": {},
   "source": [
    "# Step 3: Subset using Bounding Box\n",
    "\n",
    "As you have noticed from reading the documentation, the `nexuscli` module has a method called subset that accepts a [bounding box](http://toblerity.org/shapely/shapely.geometry.html?highlight=box#shapely.geometry.box) argument. We can use this method to subset data using a geographical bounding box.\n",
    "\n",
    ">def subset(\tdataset, bounding_box, start_datetime, end_datetime, parameter, metadata_filter)  \n",
    ">\n",
    ">Fetches point values for a given dataset and geographical area or metadata criteria and time range.  \n",
    ">\n",
    ">__dataset__ Name of the dataset as a String  \n",
    ">__bounding_box__ Bounding box for area of interest as a shapely.geometry.polygon.Polygon  \n",
    ">__start_datetime__ Start time as a datetime.datetime  \n",
    ">__end_datetime__ End time as a datetime.datetime  \n",
    ">__parameter__ The parameter of interest. One of 'sst', 'sss', 'wind' or None  \n",
    ">__metadata_filter__ List of key:value String metadata criteria  \n",
    ">\n",
    ">__return__ List of Point namedtuples\n",
    "\n",
    "Try using the subset function to get data in the Gulf of Mexico from the `AVHRR_OI_L4_GHRSST_NCEI` dataset on one day. You can use `-98, 17.8, -81.5, 30.8` (west, south, east, north) as the bounding box extents.\n",
    "\n",
    "## TODOs\n",
    "\n",
    "1. Target your EC2 instance\n",
    "1. Create the bounding box using shapely's `box` method\n",
    "2. Plot the bounding box using the `plot_box` helper method\n",
    "3. Subset data by calling the `subset` method in the `nexuscli` module\n",
    "  - __Hint__: `datetime` is already imported for you. You can create a `datetime` using the method `datetime(int: year, int: month, int: day)`\n",
    "  - __Hint__: make sure you pick a day that was between the `start` and `end` returned for the dataset from the `dataset_list` function\n",
    "  - __Hint__: in python, to get the size of a list called `my_list` you would use `len(my_list)`\n",
    "4. Print the result"
   ]
  },
  {
   "cell_type": "code",
   "execution_count": null,
   "metadata": {
    "collapsed": true
   },
   "outputs": [],
   "source": [
    "import time\n",
    "import nexuscli\n",
    "from datetime import datetime\n",
    "\n",
    "from shapely.geometry import box\n",
    "\n",
    "# TODO: Target your AWS NEXUS server using your public DNS name and port 8083\n",
    "nexuscli.set_target(\"http://<public dns>:8083\", use_session=False)\n",
    "\n",
    "# TODO: Create a bounding box using the box method imported above\n",
    "\n",
    "# TODO: Plot the bounding box using the helper method plot_box"
   ]
  },
  {
   "cell_type": "code",
   "execution_count": null,
   "metadata": {
    "collapsed": true
   },
   "outputs": [],
   "source": [
    "# Do not modify this line ##\n",
    "start = time.perf_counter()#\n",
    "############################\n",
    "\n",
    "\n",
    "# TODO: Call the subset method for the AVHRR_OI_L4_GHRSST_NCEI dataset using \n",
    "# your bounding box and time period of 1 day. Then print the size/length of the resulting list.\n",
    "\n",
    "\n",
    "# Enter your code above this line\n",
    "print(\"Subsetting data took {} seconds\".format(time.perf_counter() - start))"
   ]
  },
  {
   "cell_type": "markdown",
   "metadata": {},
   "source": [
    "# Step 4: Subset Using a Metadatafilter\n",
    "\n",
    "We can also subset data using metadata filters. This is a relatively new feature and currently it does require some knowledge about the dataset in order to know what metadata is available to be filtered on.\n",
    "\n",
    "For this example we will use the sample river flow dataset `RAPID_WSWM` which has data modeled to look like river flow guages in North America. Each river has been given a unique identifier which is available to be filtered on. For our case, we want to focus on LA County. 9 rivers located in LA county have been selected already and their River IDs are listed for you.\n",
    "\n",
    "Use the subset method to get data for the selected rivers and then plot the resulting data using the `show_plot` helper method. The filter format is `rivid_i:<River ID>` and has been provided for you.\n",
    "\n",
    "## TODOs\n",
    "\n",
    "1. Target your EC2 instance\n",
    "1. Iterate over the list of River IDs\n",
    "2. For each River ID, call the subset function passing in the metadata filter for that river\n",
    "  - __Hint__: you will want to store the result of the subset function on each iteration in a data structure (like a list) so you can plot it later\n",
    "  - __Hint__: in python you can use `my_list.append(data)` to append data to a list called `my_list`\n",
    "  - __Hint__: `subset` returns a list of [Point](https://htmlpreview.github.io/?https://raw.githubusercontent.com/apache/incubator-sdap-nexus/107438af45b479348ffb75a667b276ee3c81f9da/client/docs/nexuscli/nexuscli.m.html#nexuscli.nexuscli.Point) objects\n",
    "3. Graph the results using the show_plot helper method"
   ]
  },
  {
   "cell_type": "code",
   "execution_count": null,
   "metadata": {
    "collapsed": true
   },
   "outputs": [],
   "source": [
    "import requests\n",
    "import time\n",
    "import nexuscli\n",
    "from datetime import datetime\n",
    "\n",
    "\n",
    "# TODO: Target your AWS NEXUS server using your public DNS name and port 8083\n",
    "nexuscli.set_target(\"http://<public dns>:8083\", use_session=False)\n",
    "\n",
    "# River IDs for 9 Rivers in LA County\n",
    "la_county_river_ids = [17575859, 17574289, 17575711, 17574677, 17574823,\n",
    "                       948070361, 22560728, 22560730, 22560738]\n",
    "\n",
    "# Do not modify this line ##\n",
    "start = time.perf_counter()#\n",
    "############################\n",
    "\n",
    "# TODO: Iterate over the list of River IDs\n",
    "\n",
    "    # TODO: For each River ID, call the subset function passing in the metadata filter for that river\n",
    "    metadataFilter = \"rivid_i:{}\".format(river_id)\n",
    "\n",
    "print(\"Subsetting took {} seconds\".format(time.perf_counter() - start))"
   ]
  },
  {
   "cell_type": "code",
   "execution_count": null,
   "metadata": {
    "collapsed": true
   },
   "outputs": [],
   "source": [
    "# TODO: Graph the results using the show_plot helper method\n",
    "show_plot(, # x values (time)\n",
    "          , # y values (data)\n",
    "          'Time', # x axis label\n",
    "          'Discharge (m³s⁻¹)', # y axis label\n",
    "          legend=[str(r) for r in la_county_river_ids],\n",
    "          title='LA County Rivers'\n",
    "         )"
   ]
  },
  {
   "cell_type": "markdown",
   "metadata": {},
   "source": [
    "# Step 5: Averaging Results\n",
    "\n",
    "Now that we have data on 9 rivers in LA county, we might want to process that data even futher and determine the mean flow rate of all 9 rivers over time. This can be done using the `numpy` library.\n",
    "\n",
    "Try using your results from the previous cell and apply `numpy.mean` to the data and plot the result.\n",
    "\n",
    "## TODO\n",
    "\n",
    "1. Average the results from the previous cell using `numpy.mean`\n",
    "2. Plot the results"
   ]
  },
  {
   "cell_type": "code",
   "execution_count": null,
   "metadata": {
    "collapsed": true
   },
   "outputs": [],
   "source": [
    "import numpy\n",
    "\n",
    "# TODO Average the results from the previous cell using `numpy.mean`\n",
    "\n",
    "avg_discharge_rates = numpy.mean(discharge_rates, axis=0)\n",
    "\n",
    "# TODO Plot the results\n",
    "\n",
    "show_plot([single_river_time_steps], # x values\n",
    "          [avg_discharge_rates], # y values\n",
    "          'Time', # x axis label\n",
    "          'Discharge (m³s⁻¹)', # y axis label\n",
    "          title='Average Discharge of LA County Rivers'\n",
    "         )\n",
    "\n"
   ]
  }
 ],
 "metadata": {
  "kernelspec": {
   "display_name": "Python 3",
   "language": "python",
   "name": "python3"
  },
  "language_info": {
   "codemirror_mode": {
    "name": "ipython",
    "version": 3
   },
   "file_extension": ".py",
   "mimetype": "text/x-python",
   "name": "python",
   "nbconvert_exporter": "python",
   "pygments_lexer": "ipython3",
   "version": "3.5.3"
  }
 },
 "nbformat": 4,
 "nbformat_minor": 0
}
