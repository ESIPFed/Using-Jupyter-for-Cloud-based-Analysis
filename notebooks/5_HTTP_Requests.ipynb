{
 "cells": [
  {
   "cell_type": "markdown",
   "metadata": {},
   "source": [
    "# More Functions\n",
    "Not all functions are in the `nexuscli` python client (but they will be eventually!)\n",
    "\n",
    "Even so, not all clients will be using python. All of the functions are available via plain HTTP and can be accessed from any client that can issue HTTP requests. Like `python`, `curl`, `IDL`, `MATLAB`, `Java`, `...`\n",
    "\n",
    "## Listing the Capabilities\n",
    "\n",
    "There is an endpoint exposed on the server called `/capabilities` which provides details about the current algorithms that are available from the server.\n",
    "\n",
    "### TODOs\n",
    "\n",
    "1. Target your EC2 instance\n",
    "\n"
   ]
  },
  {
   "cell_type": "code",
   "execution_count": null,
   "metadata": {
    "collapsed": false
   },
   "outputs": [],
   "source": [
    "import requests\n",
    "import pprint\n",
    "\n",
    "# TODO Target your EC2 instance\n",
    "host = \"http://<public dns>:8083\"\n",
    "\n",
    "request = \"{}/capabilities\".format(host)\n",
    "\n",
    "pprint.pprint(requests.get(request).json())"
   ]
  },
  {
   "cell_type": "markdown",
   "metadata": {},
   "source": [
    "# Time Average Map\n",
    "\n",
    "Time Average Map is one of the algorithms that have not been integrated into the Python client yet. This cell shows an example of how you would build an HTTP request to run a Time Average Map computation.\n",
    "\n",
    "This particular example is of a Time Average Map of the El Nino 3.4 region overlayed on an image of the Blue Marble. \n",
    "\n",
    "Target your EC2 instance before attempting to run this cell.\n",
    "\n",
    "## TODOs\n",
    "\n",
    "1. Target your EC2 instance"
   ]
  },
  {
   "cell_type": "code",
   "execution_count": null,
   "metadata": {
    "collapsed": true
   },
   "outputs": [],
   "source": [
    "import requests\n",
    "import json\n",
    "import datetime\n",
    "import time\n",
    "import numpy\n",
    "%matplotlib inline\n",
    "import matplotlib as mpl\n",
    "import matplotlib.pyplot as plt\n",
    "from matplotlib.pyplot import imshow\n",
    "from shapely.geometry import box\n",
    "from mpl_toolkits.basemap import Basemap\n",
    "\n",
    "epoch = datetime.datetime.utcfromtimestamp(0)\n",
    "\n",
    "# TODO Target your EC2 instance\n",
    "host = \"http://<public dns>:8083\"\n",
    "\n",
    "# Build HTTP request\n",
    "ds='AVHRR_OI_L4_GHRSST_NCEI'\n",
    "bbox = box(-170, -5, -120, 5) #minx, miny, maxx, maxy\n",
    "date_format = '%Y-%m-%dT%H:%M:%SZ'\n",
    "startTime = int((datetime.datetime(2016,1,1) - epoch).total_seconds())\n",
    "endTime = int((datetime.datetime(2016,12,31) - epoch).total_seconds())\n",
    "request = \"{}/timeAvgMapSpark?ds={}&startTime={}&endTime={}\" \\\n",
    "            \"&minLon={}&minLat={}&maxLon={}&maxLat={}&spark=local,16,32\" \\\n",
    "    .format(host, ds, startTime, endTime, *bbox.bounds)\n",
    "print (request)\n",
    "\n",
    "# Send request to server\n",
    "response = requests.get(request).json()\n",
    "\n",
    "# Parse the response\n",
    "lons = [point['lon'] for point in response['data'][0]]\n",
    "lats = [a_list[0]['lat'] for a_list in response['data']]\n",
    "\n",
    "my_list = numpy.ndarray((len(lats), len(lons)))\n",
    "for x in range(0, len(lats)):\n",
    "    for y in range(0, len(lons)):\n",
    "        my_list[x][y] = response['data'][x][y]['avg']\n",
    "\n",
    "# Generate an image of the data using a rainbow colorbar\n",
    "fig, ax1 = plt.subplots(figsize=(16,8), dpi=100)\n",
    "im = ax1.pcolormesh(lons, lats, my_list, vmin=my_list.min(),vmax=my_list.max(), cmap='gist_rainbow')\n",
    "fig.colorbar(im, ax=ax1)\n",
    "\n",
    "# Display it on a map\n",
    "map = Basemap()\n",
    "map.bluemarble(scale=0.5)"
   ]
  }
 ],
 "metadata": {
  "kernelspec": {
   "display_name": "Python 3",
   "language": "python",
   "name": "python3"
  },
  "language_info": {
   "codemirror_mode": {
    "name": "ipython",
    "version": 3
   },
   "file_extension": ".py",
   "mimetype": "text/x-python",
   "name": "python",
   "nbconvert_exporter": "python",
   "pygments_lexer": "ipython3",
   "version": "3.5.3"
  }
 },
 "nbformat": 4,
 "nbformat_minor": 0
}
